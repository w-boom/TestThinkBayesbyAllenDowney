{
 "cells": [
  {
   "cell_type": "markdown",
   "id": "f25334a0",
   "metadata": {},
   "source": [
    "需要安装empiricaldist库，现版本的anaconda自带的有。库的开源地址：https://github.com/AllenDowney/empiricaldist"
   ]
  },
  {
   "cell_type": "code",
   "execution_count": 6,
   "id": "74640669",
   "metadata": {},
   "outputs": [
    {
     "name": "stdout",
     "output_type": "stream",
     "text": [
      "Requirement already satisfied: empiricaldist in d:\\program\\anaconda\\lib\\site-packages (0.6.8)\n"
     ]
    }
   ],
   "source": [
    "!pip install empiricaldist"
   ]
  },
  {
   "cell_type": "markdown",
   "id": "85811a34",
   "metadata": {},
   "source": [
    "# 1、硬币的结果分布"
   ]
  },
  {
   "cell_type": "code",
   "execution_count": 5,
   "id": "2d4e489d",
   "metadata": {},
   "outputs": [],
   "source": [
    "from empiricaldist import Pmf"
   ]
  },
  {
   "cell_type": "code",
   "execution_count": 8,
   "id": "dd148adc",
   "metadata": {},
   "outputs": [
    {
     "data": {
      "text/html": [
       "<div>\n",
       "<style scoped>\n",
       "    .dataframe tbody tr th:only-of-type {\n",
       "        vertical-align: middle;\n",
       "    }\n",
       "\n",
       "    .dataframe tbody tr th {\n",
       "        vertical-align: top;\n",
       "    }\n",
       "\n",
       "    .dataframe thead th {\n",
       "        text-align: right;\n",
       "    }\n",
       "</style>\n",
       "<table border=\"1\" class=\"dataframe\">\n",
       "  <thead>\n",
       "    <tr style=\"text-align: right;\">\n",
       "      <th></th>\n",
       "      <th>probs</th>\n",
       "    </tr>\n",
       "  </thead>\n",
       "  <tbody>\n",
       "    <tr>\n",
       "      <th>heads</th>\n",
       "      <td>0.5</td>\n",
       "    </tr>\n",
       "    <tr>\n",
       "      <th>tails</th>\n",
       "      <td>0.5</td>\n",
       "    </tr>\n",
       "  </tbody>\n",
       "</table>\n",
       "</div>"
      ],
      "text/plain": [
       "heads    0.5\n",
       "tails    0.5\n",
       "Name: , dtype: float64"
      ]
     },
     "execution_count": 8,
     "metadata": {},
     "output_type": "execute_result"
    }
   ],
   "source": [
    "\n",
    "coin = Pmf() # 创建一个空的没有赋值的pmf\n",
    "coin['heads'] = 1/2\n",
    "coin['tails'] = 1/2\n",
    "coin"
   ]
  },
  {
   "cell_type": "markdown",
   "id": "32e6e936",
   "metadata": {},
   "source": [
    "# 2、六面骰子的结果分布"
   ]
  },
  {
   "cell_type": "code",
   "execution_count": 7,
   "id": "99931afb",
   "metadata": {},
   "outputs": [
    {
     "data": {
      "text/html": [
       "<div>\n",
       "<style scoped>\n",
       "    .dataframe tbody tr th:only-of-type {\n",
       "        vertical-align: middle;\n",
       "    }\n",
       "\n",
       "    .dataframe tbody tr th {\n",
       "        vertical-align: top;\n",
       "    }\n",
       "\n",
       "    .dataframe thead th {\n",
       "        text-align: right;\n",
       "    }\n",
       "</style>\n",
       "<table border=\"1\" class=\"dataframe\">\n",
       "  <thead>\n",
       "    <tr style=\"text-align: right;\">\n",
       "      <th></th>\n",
       "      <th>probs</th>\n",
       "    </tr>\n",
       "  </thead>\n",
       "  <tbody>\n",
       "    <tr>\n",
       "      <th>1</th>\n",
       "      <td>0.166667</td>\n",
       "    </tr>\n",
       "    <tr>\n",
       "      <th>2</th>\n",
       "      <td>0.166667</td>\n",
       "    </tr>\n",
       "    <tr>\n",
       "      <th>3</th>\n",
       "      <td>0.166667</td>\n",
       "    </tr>\n",
       "    <tr>\n",
       "      <th>4</th>\n",
       "      <td>0.166667</td>\n",
       "    </tr>\n",
       "    <tr>\n",
       "      <th>5</th>\n",
       "      <td>0.166667</td>\n",
       "    </tr>\n",
       "    <tr>\n",
       "      <th>6</th>\n",
       "      <td>0.166667</td>\n",
       "    </tr>\n",
       "  </tbody>\n",
       "</table>\n",
       "</div>"
      ],
      "text/plain": [
       "1    0.166667\n",
       "2    0.166667\n",
       "3    0.166667\n",
       "4    0.166667\n",
       "5    0.166667\n",
       "6    0.166667\n",
       "Name: , dtype: float64"
      ]
     },
     "execution_count": 7,
     "metadata": {},
     "output_type": "execute_result"
    }
   ],
   "source": [
    "die = Pmf.from_seq([1,2,3,4,5,6])\n",
    "die"
   ]
  },
  {
   "cell_type": "markdown",
   "id": "21539e7c",
   "metadata": {},
   "source": [
    "# 3、计算1个字母在词序列中出现的次数"
   ]
  },
  {
   "cell_type": "code",
   "execution_count": 14,
   "id": "eeac7d6a",
   "metadata": {},
   "outputs": [
    {
     "data": {
      "text/plain": [
       "0.36363636363636365"
      ]
     },
     "execution_count": 14,
     "metadata": {},
     "output_type": "execute_result"
    }
   ],
   "source": [
    "letters = Pmf.from_seq(list('Mississippi'))\n",
    "letters\n",
    "letters('i')"
   ]
  },
  {
   "cell_type": "code",
   "execution_count": null,
   "id": "7d04a263",
   "metadata": {},
   "outputs": [],
   "source": [
    "try:\n",
    "    letters['t']\n",
    "except KeyError as e:\n",
    "    print(type(e))\n",
    "    "
   ]
  },
  {
   "cell_type": "markdown",
   "id": "7106fe98",
   "metadata": {},
   "source": [
    "# 4、曲奇饼问题：\n",
    "## （1）简单的两个碗\n",
    "假设有两碗曲奇饼：<br/>\n",
    "碗1包含30个香草曲奇饼和10个巧克力曲奇饼；<br/>\n",
    "碗2包含20个香草曲奇饼和20个巧克力曲奇饼；<br/>\n",
    "随机挑一个碗拿一块饼干，得到了一块香草曲奇饼，问：从碗1取到香草曲奇饼的概率是多少？"
   ]
  },
  {
   "cell_type": "code",
   "execution_count": 18,
   "id": "af46ad8a",
   "metadata": {},
   "outputs": [
    {
     "data": {
      "text/html": [
       "<div>\n",
       "<style scoped>\n",
       "    .dataframe tbody tr th:only-of-type {\n",
       "        vertical-align: middle;\n",
       "    }\n",
       "\n",
       "    .dataframe tbody tr th {\n",
       "        vertical-align: top;\n",
       "    }\n",
       "\n",
       "    .dataframe thead th {\n",
       "        text-align: right;\n",
       "    }\n",
       "</style>\n",
       "<table border=\"1\" class=\"dataframe\">\n",
       "  <thead>\n",
       "    <tr style=\"text-align: right;\">\n",
       "      <th></th>\n",
       "      <th>probs</th>\n",
       "    </tr>\n",
       "  </thead>\n",
       "  <tbody>\n",
       "    <tr>\n",
       "      <th>Bowl 1</th>\n",
       "      <td>0.6</td>\n",
       "    </tr>\n",
       "    <tr>\n",
       "      <th>Bowl 2</th>\n",
       "      <td>0.4</td>\n",
       "    </tr>\n",
       "  </tbody>\n",
       "</table>\n",
       "</div>"
      ],
      "text/plain": [
       "Bowl 1    0.6\n",
       "Bowl 2    0.4\n",
       "Name: , dtype: float64"
      ]
     },
     "execution_count": 18,
     "metadata": {},
     "output_type": "execute_result"
    }
   ],
   "source": [
    "prior = Pmf.from_seq(['Bowl 1', 'Bowl 2']) # 先验P(A),求P（B|A），P（碗1|香草）\n",
    "prior\n",
    "likelihood_vanilla = [0.75, 0.5] # 似然P(A|B) = P(香草|碗1)\n",
    "posterior = prior * likelihood_vanilla\n",
    "posterior.normalize()\n",
    "posterior"
   ]
  },
  {
   "cell_type": "code",
   "execution_count": 19,
   "id": "95393fff",
   "metadata": {},
   "outputs": [
    {
     "data": {
      "text/plain": [
       "0.6"
      ]
     },
     "execution_count": 19,
     "metadata": {},
     "output_type": "execute_result"
    }
   ],
   "source": [
    "posterior('Bowl 1')"
   ]
  },
  {
   "cell_type": "markdown",
   "id": "94b9d7bb",
   "metadata": {},
   "source": [
    "## （2）两次取样\n",
    "如果把取到的香草曲奇饼放回，再随机挑一个碗拿一块饼干，同样是香草曲奇饼。似然，也就是P（香草|碗）是没有变的，但是先验变化。原本的P（碗1）是0.5，通过一次计算后P（碗1）= 0.6"
   ]
  },
  {
   "cell_type": "code",
   "execution_count": 22,
   "id": "e4b330ad",
   "metadata": {},
   "outputs": [
    {
     "data": {
      "text/plain": [
       "0.8350515463917525"
      ]
     },
     "execution_count": 22,
     "metadata": {},
     "output_type": "execute_result"
    }
   ],
   "source": [
    "posterior *= likelihood_vanilla #循环，如果重复运行，概率会逐步增加\n",
    "posterior.normalize()\n",
    "posterior\n",
    "posterior('Bowl 1')"
   ]
  },
  {
   "cell_type": "markdown",
   "id": "a8b29190",
   "metadata": {},
   "source": [
    "上面的循环也体现了贝叶斯的思想，利用先验知识，不断更新关于未知参数的信息，以此获得修订后的参数的可能性，也就是后验概率<br/>\n",
    "## （3）多碗\n",
    "假设有101碗曲奇饼：<br/>\n",
    "碗0包含0%香草曲奇饼；<br/>\n",
    "碗1包含1%个香草曲奇饼；<br/>\n",
    "碗2包含2%香草曲奇饼；<br/>\n",
    "……<br/>\n",
    "碗100包含100%个香草曲奇饼；<br/>\n",
    "随机挑一个碗拿一块饼干，得到了一块香草曲奇饼，问：从碗x取到香草曲奇饼的概率是多少？"
   ]
  },
  {
   "cell_type": "code",
   "execution_count": 12,
   "id": "03b58166",
   "metadata": {},
   "outputs": [
    {
     "data": {
      "text/html": [
       "<div>\n",
       "<style scoped>\n",
       "    .dataframe tbody tr th:only-of-type {\n",
       "        vertical-align: middle;\n",
       "    }\n",
       "\n",
       "    .dataframe tbody tr th {\n",
       "        vertical-align: top;\n",
       "    }\n",
       "\n",
       "    .dataframe thead th {\n",
       "        text-align: right;\n",
       "    }\n",
       "</style>\n",
       "<table border=\"1\" class=\"dataframe\">\n",
       "  <thead>\n",
       "    <tr style=\"text-align: right;\">\n",
       "      <th></th>\n",
       "      <th>probs</th>\n",
       "    </tr>\n",
       "  </thead>\n",
       "  <tbody>\n",
       "    <tr>\n",
       "      <th>0</th>\n",
       "      <td>0.009901</td>\n",
       "    </tr>\n",
       "    <tr>\n",
       "      <th>1</th>\n",
       "      <td>0.009901</td>\n",
       "    </tr>\n",
       "    <tr>\n",
       "      <th>2</th>\n",
       "      <td>0.009901</td>\n",
       "    </tr>\n",
       "    <tr>\n",
       "      <th>3</th>\n",
       "      <td>0.009901</td>\n",
       "    </tr>\n",
       "    <tr>\n",
       "      <th>4</th>\n",
       "      <td>0.009901</td>\n",
       "    </tr>\n",
       "    <tr>\n",
       "      <th>...</th>\n",
       "      <td>...</td>\n",
       "    </tr>\n",
       "    <tr>\n",
       "      <th>96</th>\n",
       "      <td>0.009901</td>\n",
       "    </tr>\n",
       "    <tr>\n",
       "      <th>97</th>\n",
       "      <td>0.009901</td>\n",
       "    </tr>\n",
       "    <tr>\n",
       "      <th>98</th>\n",
       "      <td>0.009901</td>\n",
       "    </tr>\n",
       "    <tr>\n",
       "      <th>99</th>\n",
       "      <td>0.009901</td>\n",
       "    </tr>\n",
       "    <tr>\n",
       "      <th>100</th>\n",
       "      <td>0.009901</td>\n",
       "    </tr>\n",
       "  </tbody>\n",
       "</table>\n",
       "<p>101 rows × 1 columns</p>\n",
       "</div>"
      ],
      "text/plain": [
       "0      0.009901\n",
       "1      0.009901\n",
       "2      0.009901\n",
       "3      0.009901\n",
       "4      0.009901\n",
       "         ...   \n",
       "96     0.009901\n",
       "97     0.009901\n",
       "98     0.009901\n",
       "99     0.009901\n",
       "100    0.009901\n",
       "Name: , Length: 101, dtype: float64"
      ]
     },
     "execution_count": 12,
     "metadata": {},
     "output_type": "execute_result"
    }
   ],
   "source": [
    "import numpy as np\n",
    "hypos = np.arange(101) # 碗 P(A)\n",
    "prior = Pmf(1, hypos)\n",
    "prior.normalize()\n",
    "prior"
   ]
  },
  {
   "cell_type": "code",
   "execution_count": 13,
   "id": "c408525e",
   "metadata": {},
   "outputs": [
    {
     "data": {
      "text/plain": [
       "array([0.  , 0.01, 0.02, 0.03, 0.04, 0.05, 0.06, 0.07, 0.08, 0.09])"
      ]
     },
     "execution_count": 13,
     "metadata": {},
     "output_type": "execute_result"
    }
   ],
   "source": [
    "likelihood_vanilla = hypos / 100 # 似然 P（B|A）\n",
    "likelihood_vanilla[0:10]"
   ]
  },
  {
   "cell_type": "code",
   "execution_count": 14,
   "id": "67ad4b3f",
   "metadata": {},
   "outputs": [
    {
     "data": {
      "text/plain": [
       "0.00099009900990099"
      ]
     },
     "execution_count": 14,
     "metadata": {},
     "output_type": "execute_result"
    }
   ],
   "source": [
    "#posterior = prior\n",
    "#posterior *= likelihood_vanilla #后验\n",
    "posterior = prior * likelihood_vanilla\n",
    "posterior.normalize()\n",
    "posterior(5)"
   ]
  },
  {
   "cell_type": "code",
   "execution_count": 24,
   "id": "0f7aa7e4",
   "metadata": {},
   "outputs": [
    {
     "data": {
      "text/plain": [
       "[Text(0.5, 0, 'Bowl #'),\n",
       " Text(0, 0.5, 'PMF'),\n",
       " Text(0.5, 1.0, 'Posterior after one vanilla cookie')]"
      ]
     },
     "execution_count": 24,
     "metadata": {},
     "output_type": "execute_result"
    },
    {
     "data": {
      "image/png": "[encoded data removed]",
      "text/plain": [
       "<Figure size 640x480 with 1 Axes>"
      ]
     },
     "metadata": {},
     "output_type": "display_data"
    }
   ],
   "source": [
    "import matplotlib.pyplot as plt\n",
    "''''''\n",
    "# ThinkBayes2库下soln文件夹下有utils.py\n",
    "# decorate也是为了绘图方便封装的\n",
    "from utils import decorate\n",
    "\n",
    "def decorate_bowls(title):\n",
    "    decorate(xlabel = 'Bowl #',\n",
    "            ylabel = 'PMF',\n",
    "            title = title)\n",
    "''''''\n",
    "prior.plot(label='prior', color='C5')\n",
    "posterior.plot(label='posterior', color='C4')\n",
    "# decorate_bowls('Posterior after one vanilla cookie')\n",
    "ax = plt.gca()\n",
    "\n",
    "ax.legend()\n",
    "ax.set(xlabel = 'Bowl #', ylabel = 'PMF', title = 'Posterior after one vanilla cookie')\n"
   ]
  },
  {
   "cell_type": "markdown",
   "id": "00b4e5c3",
   "metadata": {},
   "source": [
    "## （4）多碗多次\n",
    "想要自定义取几次（每次都放回重取，也就是每个碗的比例是不变的），封装一个类（testCookie.py）"
   ]
  },
  {
   "cell_type": "code",
   "execution_count": 32,
   "id": "f62837ca",
   "metadata": {},
   "outputs": [],
   "source": [
    "class Cookie(object):\n",
    "    def __init__(self, bowlNum):\n",
    "        self.hypos = np.arange(bowlNum)\n",
    "        self.prior = Pmf(1, self.hypos)\n",
    "        self.prior.normalize() # 先验\n",
    "        self.likelihood = self.hypos / (bowlNum - 1)\n",
    "        self.posterior = self.prior\n",
    "        \n",
    "        \n",
    "    def Updata(self, timeNum):\n",
    "        timeNums = np.arange(timeNum)\n",
    "        for time in timeNums:\n",
    "            self.posterior *= self.likelihood\n",
    "            self.posterior.normalize()\n",
    "        return self.posterior"
   ]
  },
  {
   "cell_type": "code",
   "execution_count": 33,
   "id": "473f2320",
   "metadata": {},
   "outputs": [
    {
     "name": "stdout",
     "output_type": "stream",
     "text": [
      "0      0.000000e+00\n",
      "1      1.041749e-21\n",
      "2      1.066751e-18\n",
      "3      6.151424e-17\n",
      "4      1.092353e-15\n",
      "           ...     \n",
      "96     6.925887e-02\n",
      "97     7.682108e-02\n",
      "98     8.511848e-02\n",
      "99     9.421391e-02\n",
      "100    1.041749e-01\n",
      "Name: , Length: 101, dtype: float64\n"
     ]
    },
    {
     "data": {
      "text/plain": [
       "[Text(0.5, 0, 'Bowl #'),\n",
       " Text(0, 0.5, 'PMF'),\n",
       " Text(0.5, 1.0, 'Posterior after one vanilla cookie')]"
      ]
     },
     "execution_count": 33,
     "metadata": {},
     "output_type": "execute_result"
    },
    {
     "data": {
      "image/png": "[encoded data removed]",
      "text/plain": [
       "<Figure size 640x480 with 1 Axes>"
      ]
     },
     "metadata": {},
     "output_type": "display_data"
    }
   ],
   "source": [
    "bowlNum = 101\n",
    "    \n",
    "pp = Cookie(bowlNum)\n",
    "like = pp.Updata(10)\n",
    "    \n",
    "print(like)\n",
    "    \n",
    "pp.prior.plot(label='prior', color='C5')\n",
    "pp.posterior.plot(label='posterior', color='C4')\n",
    "ax = plt.gca()\n",
    "ax.legend()\n",
    "ax.set(xlabel = 'Bowl #', ylabel = 'PMF', title = 'Posterior after one vanilla cookie')\n",
    "    "
   ]
  },
  {
   "cell_type": "markdown",
   "id": "1a504b4b",
   "metadata": {},
   "source": [
    "假设取了10次之后，再取一次，得到一块巧克力饼干，更改上面的类。（自己写的，因为不常用python，里面有些代码看着怪怪的，不知道有没有更好的表示方法，建议看Allen.B大佬写的代码）"
   ]
  },
  {
   "cell_type": "code",
   "execution_count": 34,
   "id": "0e5b78f7",
   "metadata": {},
   "outputs": [
    {
     "data": {
      "text/plain": [
       "[Text(0.5, 0, 'Bowl #'), Text(0, 0.5, 'PMF'), Text(0.5, 1.0, 'Posterior')]"
      ]
     },
     "execution_count": 34,
     "metadata": {},
     "output_type": "execute_result"
    },
    {
     "data": {
      "image/png": "[encoded data removed]",
      "text/plain": [
       "<Figure size 640x480 with 1 Axes>"
      ]
     },
     "metadata": {},
     "output_type": "display_data"
    }
   ],
   "source": [
    "from empiricaldist import Pmf\n",
    "import numpy as np\n",
    "import matplotlib.pyplot as plt\n",
    "\n",
    "class Cookie(object):\n",
    "    \n",
    "    def __init__(self, data, kinds):\n",
    "        self.bowlsNum = data.shape[0]\n",
    "        self.kindsNum = data.shape[1]\n",
    "        self.kinds = kinds # 种类\n",
    "        hypos = np.arange(bowlsNum)\n",
    "        \n",
    "        # 先验，P（碗），每个碗的概率是相同的\n",
    "        self.prior = Pmf(1, hypos)\n",
    "        self.prior.normalize()\n",
    "   \n",
    "        # 似然P（香草|碗）\n",
    "        self.likelihood = data\n",
    "        self.posterior = self.prior\n",
    "        \n",
    "        \n",
    "    def Updata(self, timeNum, kind):\n",
    "        index = self.kinds.index(kind)\n",
    "        for time in range(timeNum):\n",
    "            self.posterior *= self.likelihood[..., index]\n",
    "            self.posterior.normalize()\n",
    "            \n",
    "        return self.posterior\n",
    "\n",
    "bowlsNum = 101\n",
    "kinds = ['vanilla', 'chocolate']\n",
    "kindsNum = len(kinds)\n",
    "    \n",
    "# data包含每种饼干种类的比例\n",
    "# 不常用python，不知道有没有更好的办法\n",
    "data = np.zeros((bowlsNum, kindsNum), dtype = float)\n",
    "data[..., 0] = np.arange(0.00, 1.01, 0.01)\n",
    "data[..., 1] = 1.00 - data[..., 0]\n",
    "    \n",
    "pp = Cookie(data, kinds)\n",
    "\n",
    "like1 = pp.Updata(10, 'vanilla')\n",
    "like1.plot(label='vanilla', color='C5')\n",
    "    \n",
    "like2 = pp.Updata(3, 'chocolate')\n",
    "like2.plot(label='chocolate', color='C4')\n",
    "    \n",
    "ax = plt.gca()\n",
    "ax.legend()\n",
    "ax.set(xlabel = 'Bowl #', ylabel = 'PMF', title = 'Posterior')\n"
   ]
  },
  {
   "cell_type": "markdown",
   "id": "d7a1e3d4",
   "metadata": {},
   "source": [
    "可以求最大概率的点，也就是最后取出巧克力饼干的碗："
   ]
  },
  {
   "cell_type": "code",
   "execution_count": 35,
   "id": "c12f520a",
   "metadata": {},
   "outputs": [
    {
     "name": "stdout",
     "output_type": "stream",
     "text": [
      "77\n",
      "77\n"
     ]
    }
   ],
   "source": [
    "print(like2.idxmax())\n",
    "print(like2.max_prob())"
   ]
  }
 ],
 "metadata": {
  "kernelspec": {
   "display_name": "Python 3 (ipykernel)",
   "language": "python",
   "name": "python3"
  },
  "language_info": {
   "codemirror_mode": {
    "name": "ipython",
    "version": 3
   },
   "file_extension": ".py",
   "mimetype": "text/x-python",
   "name": "python",
   "nbconvert_exporter": "python",
   "pygments_lexer": "ipython3",
   "version": "3.10.9"
  }
 },
 "nbformat": 4,
 "nbformat_minor": 5
}
