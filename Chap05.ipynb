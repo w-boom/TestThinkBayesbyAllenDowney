{
 "cells": [
  {
   "cell_type": "markdown",
   "id": "c21e5bde",
   "metadata": {},
   "source": [
    "# 估计计数\n",
    "## 1、火车头问题\n",
    "佛雷德里克莫斯泰勒的《五十个概率难题的解法》中有如下表述：</br>\n",
    "铁路上以1到N命名火车头。有一天你看到一个标号60的火车头，请估计铁路上有多少火车头？</br>\n",
    "想清楚这个问题怎么转化为贝叶斯估计问题：</br>\n",
    "**假设：**铁路上火车头数为x， 求的是p（x|看到标号60的火车头）——后验概率</br>\n",
    "在假设的情况下，假设的概率——先验P（x）</br>\n",
    "在假设的情况下看到标号60火车头的概率——似然P（看到标号60火车头|x）</br>\n",
    "标准化常量P（60）</br>\n",
    "先验概率P（x）：假设x是1到1000等概率的任何值</br>\n",
    "似然P（60|x）：等概率，应为1/x</br>\n",
    "P（60）= 1</br>"
   ]
  },
  {
   "cell_type": "code",
   "execution_count": 2,
   "id": "32490cae",
   "metadata": {},
   "outputs": [
    {
     "data": {
      "text/plain": [
       "[None, Text(0, 0.5, 'PMF'), Text(0.5, 1.0, 'posterior distribution')]"
      ]
     },
     "execution_count": 2,
     "metadata": {},
     "output_type": "execute_result"
    },
    {
     "data": {
      "image/png": "[encoded data removed]",
      "text/plain": [
       "<Figure size 640x480 with 1 Axes>"
      ]
     },
     "metadata": {},
     "output_type": "display_data"
    }
   ],
   "source": [
    "import numpy as np\n",
    "from empiricaldist import Pmf\n",
    "import matplotlib.pyplot as plt\n",
    "\n",
    "hypos = np.arange(1, 1001)\n",
    "prior = Pmf(1, hypos)\n",
    "\n",
    "def update_train(pmf, data):\n",
    "    hypos = pmf.qs\n",
    "    likelihood = 1 / hypos\n",
    "    impossible = (data > hypos)\n",
    "    likelihood[impossible] = 0\n",
    "    pmf *= likelihood\n",
    "    pmf.normalize()\n",
    "    \n",
    "data = 60\n",
    "posterior = prior.copy()\n",
    "update_train(posterior, data)\n",
    "posterior.plot()\n",
    "ax = plt.gca()\n",
    "ax.set(label = 'Number of trains', ylabel = 'PMF', title = 'posterior distribution')"
   ]
  },
  {
   "cell_type": "markdown",
   "id": "182769db",
   "metadata": {},
   "source": [
    "概率最大的值是60，但一般而言恰好看到最终的火车头标号概率并不高，而且已经看到最高60了，这个概率问题也不存在了。还有一种方法时计算**后验概率的平均值分布**：给定可能的值$q_i$，相应的概率为$p_i$,那么分布的平均是$$mean = \\sum_ip_iq_i$$"
   ]
  },
  {
   "cell_type": "code",
   "execution_count": 23,
   "id": "1441d4e2",
   "metadata": {},
   "outputs": [
    {
     "data": {
      "text/plain": [
       "333.41989326370776"
      ]
     },
     "execution_count": 23,
     "metadata": {},
     "output_type": "execute_result"
    }
   ],
   "source": [
    "np.sum(posterior.ps * posterior.qs)\n",
    "# posterior.mean()"
   ]
  },
  {
   "cell_type": "markdown",
   "id": "6e629d7f",
   "metadata": {},
   "source": [
    "## 2、先验的敏感性\n",
    "为了解决火车头问题，我们假设先验概率是1-1000的均匀随机分布，但是上界1000和均匀分布这两个假设并没有特别的理由。在上一章我们遇到了先验湮没，后验概率对先验不敏感，那么这次的后验概率是否对先验敏感？</br>\n",
    "假设上界分别为500， 1000， 2000， 3000"
   ]
  },
  {
   "cell_type": "code",
   "execution_count": 24,
   "id": "53f4bd9e",
   "metadata": {},
   "outputs": [
    {
     "data": {
      "text/html": [
       "<div>\n",
       "<style scoped>\n",
       "    .dataframe tbody tr th:only-of-type {\n",
       "        vertical-align: middle;\n",
       "    }\n",
       "\n",
       "    .dataframe tbody tr th {\n",
       "        vertical-align: top;\n",
       "    }\n",
       "\n",
       "    .dataframe thead th {\n",
       "        text-align: right;\n",
       "    }\n",
       "</style>\n",
       "<table border=\"1\" class=\"dataframe\">\n",
       "  <thead>\n",
       "    <tr style=\"text-align: right;\">\n",
       "      <th></th>\n",
       "      <th>Posterior mean</th>\n",
       "    </tr>\n",
       "    <tr>\n",
       "      <th>Upper bound</th>\n",
       "      <th></th>\n",
       "    </tr>\n",
       "  </thead>\n",
       "  <tbody>\n",
       "    <tr>\n",
       "      <th>500</th>\n",
       "      <td>207.079228</td>\n",
       "    </tr>\n",
       "    <tr>\n",
       "      <th>1000</th>\n",
       "      <td>333.419893</td>\n",
       "    </tr>\n",
       "    <tr>\n",
       "      <th>2000</th>\n",
       "      <td>552.179017</td>\n",
       "    </tr>\n",
       "    <tr>\n",
       "      <th>3000</th>\n",
       "      <td>750.150589</td>\n",
       "    </tr>\n",
       "  </tbody>\n",
       "</table>\n",
       "</div>"
      ],
      "text/plain": [
       "             Posterior mean\n",
       "Upper bound                \n",
       "500              207.079228\n",
       "1000             333.419893\n",
       "2000             552.179017\n",
       "3000             750.150589"
      ]
     },
     "execution_count": 24,
     "metadata": {},
     "output_type": "execute_result"
    }
   ],
   "source": [
    "import pandas as pd\n",
    "\n",
    "df = pd.DataFrame(columns = ['Posterior mean'])\n",
    "df.index.name = 'Upper bound'\n",
    "\n",
    "for high in [500, 1000, 2000, 3000]:\n",
    "    hypos = np.arange(1, high+1)\n",
    "    pmf = Pmf(1, hypos)\n",
    "    update_train(pmf, data = 60)\n",
    "    df.loc[high] = pmf.mean()\n",
    "    \n",
    "df\n"
   ]
  },
  {
   "cell_type": "markdown",
   "id": "5c92a86f",
   "metadata": {},
   "source": [
    "可以看得出后验概率对先验是敏感的，这种情概况有两种方法继续进行分析：**获取更多的数据、更多的背景信息**</br>\n",
    "### （1）获取更多的数据（大数据）\n",
    "假设除了列车60，我们也看到30和90。可以看到随着数据的增加，后验概率趋向收敛于178"
   ]
  },
  {
   "cell_type": "code",
   "execution_count": 5,
   "id": "45d11241",
   "metadata": {},
   "outputs": [
    {
     "data": {
      "text/html": [
       "<div>\n",
       "<style scoped>\n",
       "    .dataframe tbody tr th:only-of-type {\n",
       "        vertical-align: middle;\n",
       "    }\n",
       "\n",
       "    .dataframe tbody tr th {\n",
       "        vertical-align: top;\n",
       "    }\n",
       "\n",
       "    .dataframe thead th {\n",
       "        text-align: right;\n",
       "    }\n",
       "</style>\n",
       "<table border=\"1\" class=\"dataframe\">\n",
       "  <thead>\n",
       "    <tr style=\"text-align: right;\">\n",
       "      <th></th>\n",
       "      <th>Posterior mean</th>\n",
       "    </tr>\n",
       "    <tr>\n",
       "      <th>Upper bound</th>\n",
       "      <th></th>\n",
       "    </tr>\n",
       "  </thead>\n",
       "  <tbody>\n",
       "    <tr>\n",
       "      <th>500</th>\n",
       "      <td>151.849588</td>\n",
       "    </tr>\n",
       "    <tr>\n",
       "      <th>1000</th>\n",
       "      <td>164.305586</td>\n",
       "    </tr>\n",
       "    <tr>\n",
       "      <th>2000</th>\n",
       "      <td>171.338181</td>\n",
       "    </tr>\n",
       "    <tr>\n",
       "      <th>3000</th>\n",
       "      <td>173.818938</td>\n",
       "    </tr>\n",
       "    <tr>\n",
       "      <th>4000</th>\n",
       "      <td>175.086611</td>\n",
       "    </tr>\n",
       "    <tr>\n",
       "      <th>5000</th>\n",
       "      <td>175.856181</td>\n",
       "    </tr>\n",
       "    <tr>\n",
       "      <th>6000</th>\n",
       "      <td>176.373019</td>\n",
       "    </tr>\n",
       "    <tr>\n",
       "      <th>7000</th>\n",
       "      <td>176.744063</td>\n",
       "    </tr>\n",
       "    <tr>\n",
       "      <th>8000</th>\n",
       "      <td>177.023379</td>\n",
       "    </tr>\n",
       "    <tr>\n",
       "      <th>9000</th>\n",
       "      <td>177.241238</td>\n",
       "    </tr>\n",
       "    <tr>\n",
       "      <th>10000</th>\n",
       "      <td>177.415915</td>\n",
       "    </tr>\n",
       "    <tr>\n",
       "      <th>20000</th>\n",
       "      <td>178.206263</td>\n",
       "    </tr>\n",
       "    <tr>\n",
       "      <th>30000</th>\n",
       "      <td>178.471288</td>\n",
       "    </tr>\n",
       "    <tr>\n",
       "      <th>40000</th>\n",
       "      <td>178.604098</td>\n",
       "    </tr>\n",
       "  </tbody>\n",
       "</table>\n",
       "</div>"
      ],
      "text/plain": [
       "             Posterior mean\n",
       "Upper bound                \n",
       "500              151.849588\n",
       "1000             164.305586\n",
       "2000             171.338181\n",
       "3000             173.818938\n",
       "4000             175.086611\n",
       "5000             175.856181\n",
       "6000             176.373019\n",
       "7000             176.744063\n",
       "8000             177.023379\n",
       "9000             177.241238\n",
       "10000            177.415915\n",
       "20000            178.206263\n",
       "30000            178.471288\n",
       "40000            178.604098"
      ]
     },
     "execution_count": 5,
     "metadata": {},
     "output_type": "execute_result"
    }
   ],
   "source": [
    "import pandas as pd\n",
    "\n",
    "df = pd.DataFrame(columns = ['Posterior mean'])\n",
    "df.index.name = 'Upper bound'\n",
    "\n",
    "dataset = [30, 60, 90]\n",
    "\n",
    "for high in [500, 1000, 2000, 3000, 4000, 5000, 6000, 7000, 8000, 9000, 10000, 20000, 30000, 40000]:\n",
    "    hypos = np.arange(1, high+1)\n",
    "    pmf = Pmf(1, hypos)\n",
    "    for data in dataset:\n",
    "        update_train(pmf, data)\n",
    "    df.loc[high] = pmf.mean()\n",
    "    \n",
    "df\n"
   ]
  },
  {
   "cell_type": "markdown",
   "id": "108bfa93",
   "metadata": {},
   "source": [
    "### （2）更多的背景信息\n",
    "如果没有更多数据，可以收集更多的背景信息来提高先验。比如，我们假设上限是1000，但是大型和小型的火车有同等上限不合理，大型公司可能有1000台火车头，小型公司仅有1台。小公司多，大公司少，公司的数量与公司规模成反比$$PMF(x)\\propto{（\\frac{1}{x}）}^\\alpha$$其中$\\alpha$接近与1"
   ]
  },
  {
   "cell_type": "code",
   "execution_count": 6,
   "id": "a81e220d",
   "metadata": {},
   "outputs": [
    {
     "data": {
      "text/html": [
       "<div>\n",
       "<style scoped>\n",
       "    .dataframe tbody tr th:only-of-type {\n",
       "        vertical-align: middle;\n",
       "    }\n",
       "\n",
       "    .dataframe tbody tr th {\n",
       "        vertical-align: top;\n",
       "    }\n",
       "\n",
       "    .dataframe thead th {\n",
       "        text-align: right;\n",
       "    }\n",
       "</style>\n",
       "<table border=\"1\" class=\"dataframe\">\n",
       "  <thead>\n",
       "    <tr style=\"text-align: right;\">\n",
       "      <th></th>\n",
       "      <th>Posterior mean</th>\n",
       "    </tr>\n",
       "    <tr>\n",
       "      <th>Upper bound</th>\n",
       "      <th></th>\n",
       "    </tr>\n",
       "  </thead>\n",
       "  <tbody>\n",
       "    <tr>\n",
       "      <th>500</th>\n",
       "      <td>130.708470</td>\n",
       "    </tr>\n",
       "    <tr>\n",
       "      <th>1000</th>\n",
       "      <td>133.275231</td>\n",
       "    </tr>\n",
       "    <tr>\n",
       "      <th>2000</th>\n",
       "      <td>133.997463</td>\n",
       "    </tr>\n",
       "  </tbody>\n",
       "</table>\n",
       "</div>"
      ],
      "text/plain": [
       "             Posterior mean\n",
       "Upper bound                \n",
       "500              130.708470\n",
       "1000             133.275231\n",
       "2000             133.997463"
      ]
     },
     "execution_count": 6,
     "metadata": {},
     "output_type": "execute_result"
    },
    {
     "data": {
      "image/png": "[encoded data removed]",
      "text/plain": [
       "<Figure size 640x480 with 1 Axes>"
      ]
     },
     "metadata": {},
     "output_type": "display_data"
    }
   ],
   "source": [
    "alpha = 0.8\n",
    "ps = hypos ** (-alpha)\n",
    "power = Pmf(ps, hypos, name = 'power law')\n",
    "power.normalize()\n",
    "\n",
    "hypos = np.arange(1, 1001)\n",
    "uniform = Pmf(1, hypos, name='uniform')\n",
    "uniform.normalize()\n",
    "\n",
    "dataset = [60]\n",
    "update_train(uniform, dataset)\n",
    "update_train(power, dataset)\n",
    "\n",
    "uniform.plot(label = 'uniform', color='C4')\n",
    "power.plot(label = 'power', color='C1')\n",
    "\n",
    "ax = plt.gca()\n",
    "ax.legend()\n",
    "ax.set(xlabel='Number of trains',\n",
    "         ylabel='PMF',\n",
    "         title='Prior distributions')\n",
    "\n",
    "\n",
    "df = pd.DataFrame(columns=['Posterior mean'])\n",
    "df.index.name = 'Upper bound'\n",
    "\n",
    "alpha = 1.0\n",
    "dataset = [30, 60, 90]\n",
    "\n",
    "for high in [500, 1000, 2000]:\n",
    "    hypos = np.arange(1, high+1)\n",
    "    ps = hypos**(-alpha)\n",
    "    power = Pmf(ps, hypos)\n",
    "    for data in dataset:\n",
    "        update_train(power, data)\n",
    "    df.loc[high] = power.mean()\n",
    "    \n",
    "df"
   ]
  },
  {
   "cell_type": "markdown",
   "id": "c91b5a6e",
   "metadata": {},
   "source": [
    "## 3、置信区间\n",
    "上面取的最大值和平均值都是点估计，也就是说用单个值来估计参数。</br>\n",
    "点估计</br>\n",
    "置信区间：给出两个计算值，使得未知量有90%的可能落入这两个值之间。比如给定一个值，叠加所有小于等于这个值的概率（百分位数）\n"
   ]
  },
  {
   "cell_type": "code",
   "execution_count": 7,
   "id": "2821b790",
   "metadata": {},
   "outputs": [
    {
     "data": {
      "text/plain": [
       "0.2937469222495771"
      ]
     },
     "execution_count": 7,
     "metadata": {},
     "output_type": "execute_result"
    }
   ],
   "source": [
    "power.prob_le(100)"
   ]
  },
  {
   "cell_type": "code",
   "execution_count": 10,
   "id": "c936acb6",
   "metadata": {},
   "outputs": [
    {
     "data": {
      "text/plain": [
       "array([ 91., 243.])"
      ]
     },
     "execution_count": 10,
     "metadata": {},
     "output_type": "execute_result"
    }
   ],
   "source": [
    "def quantile(pmf, prob):\n",
    "    \"\"\"Compute a quantile with the given prob\"\"\"\n",
    "    total = 0\n",
    "    for q, p in pmf.items():\n",
    "        total += p\n",
    "        if total >= prob:\n",
    "            return q\n",
    "    return np.nan\n",
    "\n",
    "quantile(power, 0.5)\n",
    "power.quantile([0.05, 0.95])"
   ]
  },
  {
   "cell_type": "markdown",
   "id": "b2912af1",
   "metadata": {},
   "source": [
    "0.05对应91个火车头，0.95对应243个火车头：</br>\n",
    "* 火车头数只有5%的概率小于91</br>\n",
    "* 火车头数只有5%的概率大于243</br>\n",
    "* 火车头数在91-243的概率为90%</br>\n",
    "以上称为90%置信区间"
   ]
  },
  {
   "cell_type": "code",
   "execution_count": 11,
   "id": "7bc2b925",
   "metadata": {},
   "outputs": [
    {
     "data": {
      "text/plain": [
       "array([ 91., 243.])"
      ]
     },
     "execution_count": 11,
     "metadata": {},
     "output_type": "execute_result"
    }
   ],
   "source": [
    "power.credible_interval(0.9)"
   ]
  },
  {
   "cell_type": "markdown",
   "id": "eced497f",
   "metadata": {},
   "source": [
    "## 4、很有意思的课后题\n",
    "### (1) 问题：</br>\n",
    "假设你在一个大报告厅做演讲，消防队长打断了你，因为他们认为听众超过了房间的安全容量——1200人，可能有安全隐患。你主张在场的人数少于1200人，并证明这个假设。</br>\n",
    "计算时间太长，所以你做了一个实验:\n",
    "\n",
    "你问有多少人出生在5月11日，两个人举起了手。</br>\n",
    "\n",
    "你问有多少人出生于5月23日，有一个人举手。</br>\n",
    "\n",
    "最后，你问有多少人是8月1日出生的，没有人举手。</br>\n",
    "\n",
    "观众中有多少人?超过1200人的概率是多少?</br>\n",
    "* 整理\n",
    "现在假设在场人数是x，已知P（5月11日出生|x）；P（5月23日出生|x）；P（8月1日出生|x)；估计x，求P（x>1200）</br>\n",
    "实际求得是P（x|2人5月11日出生&1人5月23日出生&没有人在8月1日出生）</br>\n",
    "P（x|2人5月11日出生) * P(x|1人5月23日出生) * P(x|没有人在8月1日出生）—— 后验</br>\n",
    "P（5月11日出生的有两人|x） —— 似然</br>\n",
    "P（x）——先验</br>\n",
    "\n",
    "假设x为2000，先验假设为均匀分布；\n",
    "似然可以认为是二项分布，某个人在某天出生的概率是1/365"
   ]
  },
  {
   "cell_type": "code",
   "execution_count": 6,
   "id": "9f812d7e",
   "metadata": {},
   "outputs": [
    {
     "data": {
      "text/plain": [
       "486.2278641524631"
      ]
     },
     "execution_count": 6,
     "metadata": {},
     "output_type": "execute_result"
    },
    {
     "data": {
      "image/png": "[encoded data removed]",
      "text/plain": [
       "<Figure size 640x480 with 1 Axes>"
      ]
     },
     "metadata": {},
     "output_type": "display_data"
    }
   ],
   "source": [
    "import numpy as np\n",
    "from empiricaldist import Pmf\n",
    "import matplotlib.pyplot as plt\n",
    "from scipy.stats import binom\n",
    "\n",
    "hypos = np.arange(1, 2000, 1)\n",
    "prior = Pmf(1, hypos)\n",
    "prior.normalize()\n",
    "\n",
    "likelihood1 = binom.pmf(2, hypos, 1/365)\n",
    "likelihood2 = binom.pmf(1, hypos, 1/365)\n",
    "likelihood3 = binom.pmf(0, hypos, 1/365)\n",
    "\n",
    "posterior = prior * likelihood1 * likelihood2 * likelihood3\n",
    "posterior.normalize()\n",
    "\n",
    "posterior.plot()\n",
    "ax = plt.gca()\n",
    "ax.set(label = 'Number of people in the audience', ylabel = 'PMF')\n",
    "\n",
    "posterior.mean()"
   ]
  },
  {
   "cell_type": "markdown",
   "id": "baf4ecbe",
   "metadata": {},
   "source": [
    "### (2) 问题:</br>\n",
    "我经常在房子后面的花园里看到兔子，但是很难区分它们，所以我不知道有多少只。</br>\n",
    "假设我部署了一个动作感应相机陷阱，它每天拍摄它看到的第一只兔子的照片。三天后，我比较图片，得出结论，其中两个是同一只兔子，另一个是不同的。</br>\n",
    "\n",
    "有多少只兔子参观我的花园?</br>\n",
    "\n",
    "* 整理：</br>\n",
    "要回答这个问题，我们必须考虑先验分布和数据的可能性:</br>\n",
    "我有时会同时看到四只兔子，所以我知道至少有这么多。如果有超过10个，我会很惊讶。所以，至少作为一个起点，我认为从4到10的统一是合理的。</br>——这里我不知道从哪里能得出至少四只兔子的答案，我还是假设兔子最少两只，因为观察到了两只兔子——先验</br>\n",
    "\n",
    "P（两只兔子相同，一只兔子不同|x）——似然</br>\n",
    "$$P = 1 * \\frac{1}{x} * \\frac{x-1}{x}$$\n",
    "\n",
    "为了简单起见，让我们假设在给定的一天里，所有访问我的花园的兔子被摄像机捕捉到的可能性是一样的。我们还假设相机陷阱保证每天都能拍到一张照片。</br>"
   ]
  },
  {
   "cell_type": "code",
   "execution_count": 7,
   "id": "0cb6474c",
   "metadata": {},
   "outputs": [
    {
     "data": {
      "text/plain": [
       "[None, Text(0, 0.5, 'PMF')]"
      ]
     },
     "execution_count": 7,
     "metadata": {},
     "output_type": "execute_result"
    },
    {
     "data": {
      "image/png": "[encoded data removed]",
      "text/plain": [
       "<Figure size 640x480 with 1 Axes>"
      ]
     },
     "metadata": {},
     "output_type": "display_data"
    }
   ],
   "source": [
    "hypos = np.arange(2, 10)\n",
    "prior = Pmf(1, hypos)\n",
    "\n",
    "N = hypos\n",
    "likelihood = (N-1) / N**2\n",
    "\n",
    "posterior = prior * likelihood\n",
    "posterior.normalize()\n",
    "\n",
    "posterior.bar(alpha = 0.7)\n",
    "ax = plt.gca()\n",
    "ax.set(label = 'Number of rabbits', ylabel = 'PMF')"
   ]
  }
 ],
 "metadata": {
  "kernelspec": {
   "display_name": "Python 3 (ipykernel)",
   "language": "python",
   "name": "python3"
  },
  "language_info": {
   "codemirror_mode": {
    "name": "ipython",
    "version": 3
   },
   "file_extension": ".py",
   "mimetype": "text/x-python",
   "name": "python",
   "nbconvert_exporter": "python",
   "pygments_lexer": "ipython3",
   "version": "3.10.9"
  }
 },
 "nbformat": 4,
 "nbformat_minor": 5
}
